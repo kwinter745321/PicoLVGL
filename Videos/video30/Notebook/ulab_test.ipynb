{
 "cells": [
  {
   "cell_type": "markdown",
   "id": "8a5b0799-7d0e-42d6-b987-20fed6e9495c",
   "metadata": {},
   "source": [
    "<H1>Video 30 - MicroPython - Introduction to ulab</H1>"
   ]
  },
  {
   "cell_type": "markdown",
   "id": "96098a9f-da5d-404b-94fc-669e26f82fb5",
   "metadata": {},
   "source": [
    "<H3>\n",
    "Copyright (C) 2025 KW Services.</br>\n",
    "Raspberry Pi Pico (RP2040)</br>\n",
    "MicroPython v1.20.0-2504.g9fe842956 on 2025-04-04; Raspberry Pi Pico with RP2040</br>\n",
    "MicroPython 1.24.1</br>\n",
    "LVGL 9.3</br>\n",
    "ulab 6.7.4</br>\n",
    "MIT License</br>\n",
    "ulab found at https://github.com/v923z/micropython-ulab as of 04 April 2025</br>\n",
    "FP32</H3>"
   ]
  },
  {
   "cell_type": "markdown",
   "id": "f509091c-78af-4661-b8bb-cfeeff39c3cd",
   "metadata": {},
   "source": [
    "<H3>Connecting to Raspberry PI Pico</H3>"
   ]
  },
  {
   "cell_type": "code",
   "execution_count": 30,
   "id": "70363b5b-7b5f-4e00-8b83-53943c0beb8e",
   "metadata": {},
   "outputs": [
    {
     "name": "stdout",
     "output_type": "stream",
     "text": [
      "\u001b[34mattempt to exit paste mode\n",
      "\u001b[34m[\\r\\x03\\x02] \u001b[0mb'\\r\\nMicroPython v1.20.0-2504.g9fe842956 on 2025-04-04; Raspberry Pi Pico with RP2040\\r\\nType \"help()\" for more information.\\r\\n>>> '\u001b[34m\n",
      "Closing serial Serial<id=0x20566a4dc00, open=True>(port='COM38', baudrate=115200, bytesize=8, parity='N', stopbits=1, timeout=0.5, xonxoff=False, rtscts=False, dsrdtr=False)\n",
      "\u001b[0m"
     ]
    }
   ],
   "source": [
    "%disconnect"
   ]
  },
  {
   "cell_type": "code",
   "execution_count": 11,
   "id": "fa84d154-f863-43bf-9bcc-4ed288b6f463",
   "metadata": {},
   "outputs": [
    {
     "name": "stdout",
     "output_type": "stream",
     "text": [
      "\u001b[34mConnecting to --port=COM38 --baud=115200 \u001b[0m\n",
      "\u001b[34mReady.\n",
      "\u001b[0m"
     ]
    }
   ],
   "source": [
    "%serialconnect --port=COM38"
   ]
  },
  {
   "cell_type": "code",
   "execution_count": 12,
   "id": "6ba3e32e-e97d-4a5e-a80a-274e2ec36ff9",
   "metadata": {},
   "outputs": [
    {
     "name": "stdout",
     "output_type": "stream",
     "text": [
      "You are running ulab version 6.7.4-2D-c\n",
      "PyLang (3, 4, 0) ; (name='micropython', version=(1, 24, 1, ''), _machine='Raspberry Pi Pico with RP2040', _mpy=4870)\n",
      "Running LVGL 9.3\n"
     ]
    }
   ],
   "source": [
    "import ulab\n",
    "print('You are running ulab version', ulab.__version__)\n",
    "import sys\n",
    "print(\"PyLang\", sys.version_info, \";\", sys.implementation)\n",
    "import lvgl as lv\n",
    "print(\"Running LVGL %d.%d\" % (lv.version_major(), lv.version_minor() )  )"
   ]
  },
  {
   "cell_type": "markdown",
   "id": "9bfb3514-ee40-4f9f-8c35-8fbe0da31ec8",
   "metadata": {},
   "source": [
    "<H1>ulab import</H1>"
   ]
  },
  {
   "cell_type": "code",
   "execution_count": 13,
   "id": "8b26693a-0842-4aee-b29e-d33f67059673",
   "metadata": {},
   "outputs": [],
   "source": [
    "from ulab import numpy as np"
   ]
  },
  {
   "cell_type": "markdown",
   "id": "842e7b38-8518-4481-955b-5c67b9304082",
   "metadata": {},
   "source": [
    "<H1>Numpy-like</H1)\n",
    "<H2>The base class: ndarray</H2>"
   ]
  },
  {
   "cell_type": "code",
   "execution_count": 14,
   "id": "238ca575-6123-4abe-9d42-68eabafca291",
   "metadata": {},
   "outputs": [
    {
     "name": "stdout",
     "output_type": "stream",
     "text": [
      "x1 is: array([1.0, 2.0, 3.0], dtype=float32)\n",
      "x1 is: array([1.0, 2.0, 3.0], dtype=float32)\n"
     ]
    }
   ],
   "source": [
    "x1 = np.array([1,2,3])\n",
    "print(\"x1 is:\",x1)\n",
    "\n",
    "num = []\n",
    "for i in range(1,4):\n",
    "    num.append(i)\n",
    "x1 = np.array(num)\n",
    "print(\"x1 is:\",x1)"
   ]
  },
  {
   "cell_type": "code",
   "execution_count": 15,
   "id": "b366df22-d14b-460c-8888-94b80d3690ff",
   "metadata": {},
   "outputs": [
    {
     "name": "stdout",
     "output_type": "stream",
     "text": [
      "array([0, 1, 2, 3, 4, 5, 6, 7, 8, 9], dtype=int16)\n"
     ]
    }
   ],
   "source": [
    "x2 = np.arange(0,10)\n",
    "print(x2)"
   ]
  },
  {
   "cell_type": "code",
   "execution_count": 16,
   "id": "6ba7a523-2d83-4507-b5b2-d3575030e4f0",
   "metadata": {},
   "outputs": [
    {
     "name": "stdout",
     "output_type": "stream",
     "text": [
      "array([0.0, 2.5, 5.0, 7.5, 10.0], dtype=float32)\n"
     ]
    }
   ],
   "source": [
    "x3 = np.linspace(0, 10, num=5)\n",
    "print(x3)"
   ]
  },
  {
   "cell_type": "code",
   "execution_count": 17,
   "id": "a9cfe26f-2048-47bc-bf71-0623d5c881df",
   "metadata": {
    "scrolled": true
   },
   "outputs": [
    {
     "name": "stdout",
     "output_type": "stream",
     "text": [
      "array([0.0, 0.1010101, 0.2020202, ..., 9.797992, 9.899002, 10.0], dtype=float32)\n"
     ]
    }
   ],
   "source": [
    "x4 = np.linspace(0, 10, num=100)\n",
    "print(x4)"
   ]
  },
  {
   "cell_type": "code",
   "execution_count": 18,
   "id": "1b792031-48ea-4d61-8459-13603b7dec2e",
   "metadata": {},
   "outputs": [
    {
     "name": "stdout",
     "output_type": "stream",
     "text": [
      "array([0.0, 0.0, 0.0, 0.0, 0.0], dtype=float32)\n"
     ]
    }
   ],
   "source": [
    "x5 = np.zeros(5)\n",
    "print(x5)"
   ]
  },
  {
   "cell_type": "code",
   "execution_count": 19,
   "id": "c666e8ce-2b68-4416-ae06-3811c96108da",
   "metadata": {},
   "outputs": [
    {
     "name": "stdout",
     "output_type": "stream",
     "text": [
      "array([1.0, 1.0, 1.0, 1.0, 1.0], dtype=float32)\n"
     ]
    }
   ],
   "source": [
    "x6 = np.ones(5)\n",
    "print(x6)"
   ]
  },
  {
   "cell_type": "code",
   "execution_count": 20,
   "id": "414986c0-0824-40d2-b963-54b543f378c4",
   "metadata": {},
   "outputs": [
    {
     "name": "stdout",
     "output_type": "stream",
     "text": [
      "array([1.0, 1.0, 1.0, 1.0], dtype=float32)\n",
      "array([[1.0, 1.0],\n",
      "       [1.0, 1.0]], dtype=float32)\n"
     ]
    }
   ],
   "source": [
    "x7 = np.ones(4)\n",
    "print(x7)\n",
    "x7.shape = (2,2)\n",
    "print(x7)"
   ]
  },
  {
   "cell_type": "code",
   "execution_count": 21,
   "id": "25b01b13-105b-47ac-a1e0-bbafaaf65730",
   "metadata": {},
   "outputs": [
    {
     "name": "stdout",
     "output_type": "stream",
     "text": [
      "array([[1.0, 2.0],\n",
      "       [3.0, 4.0]], dtype=float32)\n"
     ]
    }
   ],
   "source": [
    "x8 = np.array([[1,2],[3,4]])\n",
    "print(x8)"
   ]
  },
  {
   "cell_type": "code",
   "execution_count": 22,
   "id": "ad3db867-eb85-4242-b84d-bc666145e989",
   "metadata": {},
   "outputs": [
    {
     "name": "stdout",
     "output_type": "stream",
     "text": [
      "array([1, 1, 1], dtype=uint8)\n",
      "bytearray(b'\\x01\\x01\\x01')\n"
     ]
    }
   ],
   "source": [
    "x9 = np.ones(3, dtype=np.uint8)\n",
    "print(x9)\n",
    "b = x9.tobytes()\n",
    "print(b)"
   ]
  },
  {
   "cell_type": "markdown",
   "id": "a2852b2c-e384-4164-9470-fa61eeb5695d",
   "metadata": {},
   "source": [
    "<H1>Numpy-like Unary and Binary Operators</H1>"
   ]
  },
  {
   "cell_type": "code",
   "execution_count": 23,
   "id": "4c77853e-7859-4471-9c55-df5b59e8c869",
   "metadata": {},
   "outputs": [
    {
     "name": "stdout",
     "output_type": "stream",
     "text": [
      "array([5.0, 7.0, 9.0], dtype=float32)\n"
     ]
    }
   ],
   "source": [
    "a = np.array([1,2,3])\n",
    "b = np.array([4,5,6])\n",
    "x10 = a+b\n",
    "print(x10)"
   ]
  },
  {
   "cell_type": "code",
   "execution_count": 24,
   "id": "c58f2f65-3793-447b-9a72-ba86cc3c1427",
   "metadata": {},
   "outputs": [
    {
     "name": "stdout",
     "output_type": "stream",
     "text": [
      "array([4.0, 10.0, 18.0], dtype=float32)\n"
     ]
    }
   ],
   "source": [
    "x10 = a*b\n",
    "print(x10)"
   ]
  },
  {
   "cell_type": "code",
   "execution_count": 25,
   "id": "5d6abc7b-0396-496c-9494-13ba0ad206fe",
   "metadata": {},
   "outputs": [
    {
     "name": "stdout",
     "output_type": "stream",
     "text": [
      "Length of x10: 3\n"
     ]
    }
   ],
   "source": [
    "print(\"Length of x10:\", len(x10) )"
   ]
  },
  {
   "cell_type": "markdown",
   "id": "4b740d2a-63cd-467d-a656-f1d7ea96ad82",
   "metadata": {},
   "source": [
    "<h1>Numpy Functions</h1>"
   ]
  },
  {
   "cell_type": "code",
   "execution_count": 26,
   "id": "9b57eef3-bace-4c62-a4a1-814082c705fd",
   "metadata": {},
   "outputs": [
    {
     "name": "stdout",
     "output_type": "stream",
     "text": [
      "array([76.66666], dtype=float32)\n"
     ]
    }
   ],
   "source": [
    "temp = np.array([70,75,80])\n",
    "xdate = np.array([1,3,6])\n",
    "x11 = np.interp(4, xdate, temp)\n",
    "print(x11)"
   ]
  },
  {
   "cell_type": "code",
   "execution_count": 27,
   "id": "c3e5f63a-85cd-4cb7-bae8-319bacc6bca8",
   "metadata": {},
   "outputs": [
    {
     "name": "stdout",
     "output_type": "stream",
     "text": [
      "array([[23.97, 27.42, 12.55, 22.63, 14.0, 26.43, 19.1, 17.28, 18.2, 22.07]], dtype=float32)\n",
      "array([23.97, 27.42, 12.55, 22.63, 14.0, 26.43, 19.1, 17.28, 18.2, 22.07], dtype=float32)\n",
      "Length of numpy array x12: 10\n"
     ]
    }
   ],
   "source": [
    "# prefers unix-formatted text file\n",
    "x12 = np.loadtxt('Air.csv', max_rows=5, skiprows=0, delimiter=',' )\n",
    "print(x12)\n",
    "x12 = x12.flatten()\n",
    "print(x12)\n",
    "print(\"Length of numpy array x12:\",len(x12))"
   ]
  },
  {
   "cell_type": "markdown",
   "id": "dccde743-0b37-49f1-826f-f1748d2d4a7a",
   "metadata": {},
   "source": [
    "<h1>Scipy Functions</h1>"
   ]
  },
  {
   "cell_type": "code",
   "execution_count": 28,
   "id": "b18aa703-5293-4287-a0f7-bfca0931420e",
   "metadata": {},
   "outputs": [],
   "source": [
    "from ulab import scipy as spy"
   ]
  },
  {
   "cell_type": "markdown",
   "id": "e0fdcfe0-b15f-4f63-a1c9-2c9970a8eed5",
   "metadata": {},
   "source": [
    "<h2>Perform Integration on</br>\n",
    "$ f(x) = x^{2}$ + 2x + 1</h2>"
   ]
  },
  {
   "cell_type": "code",
   "execution_count": 29,
   "id": "0e1db0b1-dea9-4ed2-8cbb-1542e6f50671",
   "metadata": {},
   "outputs": [
    {
     "name": "stdout",
     "output_type": "stream",
     "text": [
      "result and tolerance = (71.66666, 9.305214e-05)\n"
     ]
    }
   ],
   "source": [
    "f = lambda x: x**2 + 2*x + 1\n",
    "result = spy.integrate.quad(f, 0, 5 )\n",
    "print (f\"result and tolerance = {result}\")"
   ]
  },
  {
   "cell_type": "code",
   "execution_count": null,
   "id": "50b2f6ef-619f-4324-93d8-5a8551bfaa06",
   "metadata": {},
   "outputs": [],
   "source": []
  },
  {
   "cell_type": "code",
   "execution_count": null,
   "id": "43ff5e35-dfb6-470d-8e90-601db3a90601",
   "metadata": {},
   "outputs": [],
   "source": []
  }
 ],
 "metadata": {
  "kernelspec": {
   "display_name": "MicroPython - USB",
   "language": "micropython",
   "name": "micropython"
  },
  "language_info": {
   "codemirror_mode": "python",
   "file_extension": ".py",
   "mimetype": "text/python",
   "name": "micropython"
  }
 },
 "nbformat": 4,
 "nbformat_minor": 5
}
